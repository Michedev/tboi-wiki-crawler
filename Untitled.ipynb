{
 "cells": [
  {
   "cell_type": "code",
   "execution_count": 17,
   "metadata": {
    "collapsed": true
   },
   "outputs": [],
   "source": [
    "import pandas as pd\n",
    "import matplotlib.pyplot as plt\n",
    "from pathlib import Path\n",
    "from csv import DictReader\n",
    "from io import StringIO"
   ]
  },
  {
   "cell_type": "code",
   "execution_count": 5,
   "metadata": {},
   "outputs": [],
   "source": [
    "projectroot =  Path('/home/mikedev/Programming/Project/Python/WikiTBOIWebdriver')\n",
    "passiveitems_path = projectroot / 'passive_items.csv'"
   ]
  },
  {
   "cell_type": "code",
   "execution_count": 42,
   "metadata": {},
   "outputs": [],
   "source": [
    "text = open(passiveitems_path).read().replace(\";\", \" \").replace(\"$%$$#\", \";\")"
   ]
  },
  {
   "cell_type": "code",
   "execution_count": 45,
   "metadata": {},
   "outputs": [],
   "source": [
    "data = text.split(\"\\n\")"
   ]
  },
  {
   "cell_type": "code",
   "execution_count": 79,
   "metadata": {},
   "outputs": [],
   "source": [
    "for i, row in enumerate(data):\n",
    "    data[i] = row.split(\";\")"
   ]
  },
  {
   "cell_type": "code",
   "execution_count": 83,
   "metadata": {},
   "outputs": [
    {
     "data": {
      "text/plain": [
       "['<3',\n",
       " \"[['https://hydra-media.cursecdn.com/bindingofisaacrebirth.gamepedia.com/4/41/Item_Pool_Boss.png?version=46cb45c2a73c9b5b3148629fe20eaebf', 'Boss'], ['https://hydra-media.cursecdn.com/bindingofisaacrebirth.gamepedia.com/8/88/Item_Pool_Treasure_Room.png?version=c98ec13bd2280dc0096174a1c5f38e95', 'Treasure Room'], ['https://hydra-media.cursecdn.com/bindingofisaacrebirth.gamepedia.com/6/63/Item_Pool_Miniboss.png?version=a026b25f13fa750e76b91ecaa6214c99', 'Gluttony']]\",\n",
       " 'Yet unlocked',\n",
       " 'http://bindingofisaacrebirth.gamepedia.com/File:Less_Than_Three_Icon.png',\n",
       " 'HP up',\n",
       " 'Increases available heart containers by 1 and restores all health.']"
      ]
     },
     "execution_count": 83,
     "metadata": {},
     "output_type": "execute_result"
    }
   ],
   "source": [
    "data[1]"
   ]
  },
  {
   "cell_type": "code",
   "execution_count": 82,
   "metadata": {},
   "outputs": [],
   "source": [
    "for i, row in enumerate(data):\n",
    "    if len(row)> 4:\n",
    "        del row[3]\n",
    "        data[i] = row"
   ]
  },
  {
   "cell_type": "code",
   "execution_count": 38,
   "metadata": {
    "scrolled": true
   },
   "outputs": [],
   "source": [
    "df = pd.read_csv(StringIO(text), sep=\";\")"
   ]
  },
  {
   "cell_type": "code",
   "execution_count": 41,
   "metadata": {},
   "outputs": [
    {
     "data": {
      "text/plain": [
       "<3                     [['https://hydra-media.cursecdn.com/bindingofi...\n",
       "???'s Only Friend      [['https://hydra-media.cursecdn.com/bindingofi...\n",
       "1up!                   [['https://hydra-media.cursecdn.com/bindingofi...\n",
       "20/20                  [['https://hydra-media.cursecdn.com/bindingofi...\n",
       "3 Dollar Bill          [['https://hydra-media.cursecdn.com/bindingofi...\n",
       "9 Volt                 [['https://hydra-media.cursecdn.com/bindingofi...\n",
       "Abaddon                [['https://hydra-media.cursecdn.com/bindingofi...\n",
       "Abel                   [['https://hydra-media.cursecdn.com/bindingofi...\n",
       "Anemic                 [['https://hydra-media.cursecdn.com/bindingofi...\n",
       "Ankh                   [['https://hydra-media.cursecdn.com/bindingofi...\n",
       "Anti-Gravity           [['https://hydra-media.cursecdn.com/bindingofi...\n",
       "Aquarius               [['https://hydra-media.cursecdn.com/bindingofi...\n",
       "Aries                  [['https://hydra-media.cursecdn.com/bindingofi...\n",
       "Ball of Bandages       [['https://hydra-media.cursecdn.com/bindingofi...\n",
       "Ball of Tar            [['https://hydra-media.cursecdn.com/bindingofi...\n",
       "The Battery            [['https://hydra-media.cursecdn.com/bindingofi...\n",
       "The Belt               [['https://hydra-media.cursecdn.com/bindingofi...\n",
       "Best Bud               [['https://hydra-media.cursecdn.com/bindingofi...\n",
       "BFFS!                  [['https://hydra-media.cursecdn.com/bindingofi...\n",
       "BBF                    [['https://hydra-media.cursecdn.com/bindingofi...\n",
       "Big Fan                [['https://hydra-media.cursecdn.com/bindingofi...\n",
       "The Black Bean         [['https://hydra-media.cursecdn.com/bindingofi...\n",
       "Black Candle           [['https://hydra-media.cursecdn.com/bindingofi...\n",
       "Black Lotus            [['https://hydra-media.cursecdn.com/bindingofi...\n",
       "Blood Bag              [['https://hydra-media.cursecdn.com/bindingofi...\n",
       "Blood Clot             [['https://hydra-media.cursecdn.com/bindingofi...\n",
       "Blood of the Martyr    [['https://hydra-media.cursecdn.com/bindingofi...\n",
       "Bloody Lust            [['https://hydra-media.cursecdn.com/bindingofi...\n",
       "Blue Cap               [['https://hydra-media.cursecdn.com/bindingofi...\n",
       "Blue Map               [['https://hydra-media.cursecdn.com/bindingofi...\n",
       "                                             ...                        \n",
       "Ghost Pepper           [['https://hydra-media.cursecdn.com/bindingofi...\n",
       "Glaucoma               [['https://hydra-media.cursecdn.com/bindingofi...\n",
       "Glyph of Balance       [['https://hydra-media.cursecdn.com/bindingofi...\n",
       "Greed's Gullet         [['https://hydra-media.cursecdn.com/bindingofi...\n",
       "Hushy                  [['https://hydra-media.cursecdn.com/bindingofi...\n",
       "Jacob's Ladder         [['https://hydra-media.cursecdn.com/bindingofi...\n",
       "Jumper Cables          [['https://hydra-media.cursecdn.com/bindingofi...\n",
       "King Baby              [['https://hydra-media.cursecdn.com/bindingofi...\n",
       "Large Zit              [['https://hydra-media.cursecdn.com/bindingofi...\n",
       "Lead Pencil            [['https://hydra-media.cursecdn.com/bindingofi...\n",
       "Leprosy                [['https://hydra-media.cursecdn.com/bindingofi...\n",
       "Lil Delirium           [['https://hydra-media.cursecdn.com/bindingofi...\n",
       "Lil Monstro            [['https://hydra-media.cursecdn.com/bindingofi...\n",
       "Linger Bean            [['https://hydra-media.cursecdn.com/bindingofi...\n",
       "Little Horn            [['https://hydra-media.cursecdn.com/bindingofi...\n",
       "Metal Plate            [['https://hydra-media.cursecdn.com/bindingofi...\n",
       "Moldy Bread            [['https://hydra-media.cursecdn.com/bindingofi...\n",
       "Mom's Razor            [['https://hydra-media.cursecdn.com/bindingofi...\n",
       "Parasitoid             [['https://hydra-media.cursecdn.com/bindingofi...\n",
       "Poke Go                [['https://hydra-media.cursecdn.com/bindingofi...\n",
       "Polydactyly            [['https://hydra-media.cursecdn.com/bindingofi...\n",
       "Sack of Sacks          [['https://hydra-media.cursecdn.com/bindingofi...\n",
       "Shade                  [['https://hydra-media.cursecdn.com/bindingofi...\n",
       "Shard of Glass         [['https://hydra-media.cursecdn.com/bindingofi...\n",
       "Sinus Infection        [['https://hydra-media.cursecdn.com/bindingofi...\n",
       "Sulfuric Acid          [['https://hydra-media.cursecdn.com/bindingofi...\n",
       "Tarot Cloth            [['https://hydra-media.cursecdn.com/bindingofi...\n",
       "Technology Zero        [['https://hydra-media.cursecdn.com/bindingofi...\n",
       "Varicose Veins         [['https://hydra-media.cursecdn.com/bindingofi...\n",
       "YO LISTEN!             [['https://hydra-media.cursecdn.com/bindingofi...\n",
       "Name: Name, Length: 405, dtype: object"
      ]
     },
     "execution_count": 41,
     "metadata": {},
     "output_type": "execute_result"
    }
   ],
   "source": [
    "df[\"Name\"]"
   ]
  }
 ],
 "metadata": {
  "kernelspec": {
   "display_name": "IA3.6",
   "language": "python",
   "name": "ia3.6"
  },
  "language_info": {
   "codemirror_mode": {
    "name": "ipython",
    "version": 3
   },
   "file_extension": ".py",
   "mimetype": "text/x-python",
   "name": "python",
   "nbconvert_exporter": "python",
   "pygments_lexer": "ipython3",
   "version": "3.6.1"
  }
 },
 "nbformat": 4,
 "nbformat_minor": 2
}
